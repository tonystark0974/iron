{
 "cells": [
  {
   "cell_type": "markdown",
   "id": "bc414b51-1a11-4372-9104-e66e96da2144",
   "metadata": {},
   "source": [
    "# 结巴分词实践"
   ]
  },
  {
   "cell_type": "markdown",
   "id": "32675272-80d1-4e62-bb6b-818e9e807197",
   "metadata": {},
   "source": [
    "## 结巴分词的三种模式"
   ]
  },
  {
   "cell_type": "markdown",
   "id": "1b2b23fc-2ef8-4cd7-98b8-64c93303bdeb",
   "metadata": {},
   "source": [
    "### 全模式"
   ]
  },
  {
   "cell_type": "code",
   "execution_count": 1,
   "id": "06684f87-e864-4d1d-987f-f79854a3e5b6",
   "metadata": {},
   "outputs": [
    {
     "name": "stderr",
     "output_type": "stream",
     "text": [
      "Building prefix dict from the default dictionary ...\n",
      "Loading model from cache C:\\Users\\whj\\AppData\\Local\\Temp\\jieba.cache\n",
      "Loading model cost 0.303 seconds.\n",
      "Prefix dict has been built successfully.\n"
     ]
    },
    {
     "name": "stdout",
     "output_type": "stream",
     "text": [
      "Full Mode:我/来到/北京/清华/清华大学/华大/大学\n"
     ]
    }
   ],
   "source": [
    "import jieba\n",
    "seg_list=jieba.cut(\"我来到北京清华大学\",cut_all=True)\n",
    "print(\"Full Mode:\" + \"/\".join(seg_list))"
   ]
  },
  {
   "cell_type": "markdown",
   "id": "beae03d7-69e8-4374-a919-03e8e7640f0d",
   "metadata": {},
   "source": [
    "### 精确模式"
   ]
  },
  {
   "cell_type": "code",
   "execution_count": 2,
   "id": "80ba091e-4340-4f62-b530-fb92e00b20a8",
   "metadata": {},
   "outputs": [
    {
     "name": "stdout",
     "output_type": "stream",
     "text": [
      "Full Mode:我/来到/北京/清华大学\n"
     ]
    }
   ],
   "source": [
    "seg_list=jieba.cut(\"我来到北京清华大学\",cut_all=False)\n",
    "print(\"Full Mode:\" + \"/\".join(seg_list))"
   ]
  },
  {
   "cell_type": "markdown",
   "id": "87cf58a0-b281-42db-8c50-7ecc0b3d7c9a",
   "metadata": {},
   "source": [
    "### 搜索引擎模式"
   ]
  },
  {
   "cell_type": "code",
   "execution_count": 3,
   "id": "78e8c8d7-526b-4074-9c32-067c4048d70d",
   "metadata": {},
   "outputs": [
    {
     "name": "stdout",
     "output_type": "stream",
     "text": [
      "小明，硕士，毕业，于，中国，科学，学院，科学院，中国科学院，计算，计算所，，，后，在，日本，京都，大学，日本京都大学，深造\n"
     ]
    }
   ],
   "source": [
    "seg_list=jieba.cut_for_search(\"小明硕士毕业于中国科学院计算所，后在日本京都大学深造\")\n",
    "print(\"，\".join(seg_list))"
   ]
  },
  {
   "cell_type": "markdown",
   "id": "e006dab7-b03c-4350-a535-4767029ebc61",
   "metadata": {},
   "source": [
    "## 载入词典"
   ]
  },
  {
   "cell_type": "code",
   "execution_count": 4,
   "id": "197ade46-1ac0-4254-94ec-ec06d2572b98",
   "metadata": {},
   "outputs": [
    {
     "name": "stdout",
     "output_type": "stream",
     "text": [
      "Default Mode:吴豪骏/即将/是/自然语言/处理/方面/的/高手\n"
     ]
    }
   ],
   "source": [
    "jieba.load_userdict(\"userdict.txt\")\n",
    "seg_list = jieba.cut(\"吴豪骏即将是自然语言处理方面的高手\",cut_all=False, HMM=False)\n",
    "print(\"Default Mode:\" + \"/\".join(seg_list))"
   ]
  },
  {
   "cell_type": "markdown",
   "id": "638deaf7-6143-487f-b3ad-b66419b49c00",
   "metadata": {},
   "source": [
    "# 关键词提取"
   ]
  },
  {
   "cell_type": "code",
   "execution_count": 7,
   "id": "70151631-6231-4a94-b01c-a9cf2e3e8182",
   "metadata": {},
   "outputs": [
    {
     "name": "stdout",
     "output_type": "stream",
     "text": [
      "Top-5 关键词: ['重点', '河北省', '大学', '国家', '高校']\n"
     ]
    }
   ],
   "source": [
    "import jieba\n",
    "import jieba.analyse\n",
    "\n",
    "sentence = \"燕山大学是河北省人民政府、教育部、工业和信息化部、国家国防科技工业局四方共建的全国重点大学，河北省重点支持的国家一流大学和世界一流学科建设高校，北京高科大学联盟成员。\"\n",
    "\n",
    "jieba.add_word(\"燕山大学\")\n",
    "jieba.add_word(\"国家国防科技工业局\")\n",
    "jieba.add_word(\"北京高科大学联盟\")\n",
    "\n",
    "keywords = jieba.analyse.textrank(\n",
    "    sentence,\n",
    "    topK=5,         \n",
    "    withWeight=False\n",
    ")\n",
    "\n",
    "print(\"Top-5 关键词:\", keywords)"
   ]
  },
  {
   "cell_type": "code",
   "execution_count": null,
   "id": "a671f302-1361-4b6d-96c4-b15880c387ca",
   "metadata": {},
   "outputs": [],
   "source": []
  }
 ],
 "metadata": {
  "kernelspec": {
   "display_name": "Python 3 (ipykernel)",
   "language": "python",
   "name": "python3"
  },
  "language_info": {
   "codemirror_mode": {
    "name": "ipython",
    "version": 3
   },
   "file_extension": ".py",
   "mimetype": "text/x-python",
   "name": "python",
   "nbconvert_exporter": "python",
   "pygments_lexer": "ipython3",
   "version": "3.9.21"
  }
 },
 "nbformat": 4,
 "nbformat_minor": 5
}
